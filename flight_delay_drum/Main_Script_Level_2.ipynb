{
 "cells": [
  {
   "cell_type": "markdown",
   "metadata": {},
   "source": [
    "### Import Libraries"
   ]
  },
  {
   "cell_type": "code",
   "execution_count": 17,
   "metadata": {},
   "outputs": [],
   "source": [
    "import pandas as pd\n",
    "from sklearn.ensemble import RandomForestClassifier\n",
    "import pickle\n",
    "import joblib\n",
    "\n",
    "from sklearn.pipeline import Pipeline\n",
    "from sklearn.compose import ColumnTransformer\n",
    "from sklearn.preprocessing import OneHotEncoder\n",
    "from sklearn.impute import SimpleImputer"
   ]
  },
  {
   "cell_type": "code",
   "execution_count": 7,
   "metadata": {},
   "outputs": [
    {
     "name": "stdout",
     "output_type": "stream",
     "text": [
      "Looking in indexes: https://artifactory.int.datarobot.com/artifactory/api/pypi/python-all/simple\n",
      "Requirement already satisfied: datarobot-drum in /Library/Python/3.8/site-packages (1.5.4)\n",
      "Requirement already satisfied: pyarrow==2.0.0 in /Library/Python/3.8/site-packages (from datarobot-drum) (2.0.0)\n",
      "Requirement already satisfied: requests in /Library/Python/3.8/site-packages (from datarobot-drum) (2.23.0)\n",
      "Requirement already satisfied: pandas in /Users/kreshnaa.raam/Library/Python/3.8/lib/python/site-packages (from datarobot-drum) (1.1.4)\n",
      "Requirement already satisfied: progress in /Library/Python/3.8/site-packages (from datarobot-drum) (1.5)\n",
      "Requirement already satisfied: mlpiper~=2.4.0 in /Library/Python/3.8/site-packages (from datarobot-drum) (2.4.1.post1+dr)\n",
      "Requirement already satisfied: numpy in /Library/Python/3.8/site-packages (from datarobot-drum) (1.19.5)\n",
      "Requirement already satisfied: strictyaml==1.0.6 in /Library/Python/3.8/site-packages (from datarobot-drum) (1.0.6)\n",
      "Requirement already satisfied: datarobot==2.21.3 in /Library/Python/3.8/site-packages (from datarobot-drum) (2.21.3)\n",
      "Requirement already satisfied: memory-profiler<1.0.0 in /Library/Python/3.8/site-packages (from datarobot-drum) (0.58.0)\n",
      "Requirement already satisfied: flask in /Library/Python/3.8/site-packages (from datarobot-drum) (1.1.2)\n",
      "Requirement already satisfied: texttable in /Library/Python/3.8/site-packages (from datarobot-drum) (1.6.3)\n",
      "Requirement already satisfied: docker>=4.2.2<5.0.0 in /Library/Python/3.8/site-packages (from datarobot-drum) (4.4.4)\n",
      "Requirement already satisfied: argcomplete==1.11.1 in /Library/Python/3.8/site-packages (from datarobot-drum) (1.11.1)\n",
      "Requirement already satisfied: py4j~=0.10.9.0 in /Library/Python/3.8/site-packages (from datarobot-drum) (0.10.9.2)\n",
      "Requirement already satisfied: jinja2 in /Users/kreshnaa.raam/Library/Python/3.8/lib/python/site-packages (from datarobot-drum) (2.11.2)\n",
      "Requirement already satisfied: scipy<2,>=1.1 in /Library/Python/3.8/site-packages (from datarobot-drum) (1.5.4)\n",
      "Requirement already satisfied: contextlib2>=0.5.5 in /Library/Python/3.8/site-packages (from datarobot==2.21.3->datarobot-drum) (0.6.0.post1)\n",
      "Requirement already satisfied: trafaret!=1.1.0,<2.0,>=0.7 in /Library/Python/3.8/site-packages (from datarobot==2.21.3->datarobot-drum) (1.2.0.post1+dr)\n",
      "Requirement already satisfied: urllib3>=1.23 in /Library/Python/3.8/site-packages (from datarobot==2.21.3->datarobot-drum) (1.25.11)\n",
      "Requirement already satisfied: pyyaml>=3.11 in /Library/Python/3.8/site-packages (from datarobot==2.21.3->datarobot-drum) (5.4.1)\n",
      "Requirement already satisfied: attrs<20.0,>=19.1.0 in /Library/Python/3.8/site-packages (from datarobot==2.21.3->datarobot-drum) (19.3.0)\n",
      "Requirement already satisfied: requests-toolbelt>=0.6 in /Library/Python/3.8/site-packages (from datarobot==2.21.3->datarobot-drum) (0.9.1)\n",
      "Requirement already satisfied: ruamel.yaml>=0.14.2 in /Library/Python/3.8/site-packages (from strictyaml==1.0.6->datarobot-drum) (0.17.4)\n",
      "Requirement already satisfied: python-dateutil>=2.6.0 in /Users/kreshnaa.raam/Library/Python/3.8/lib/python/site-packages (from strictyaml==1.0.6->datarobot-drum) (2.8.1)\n",
      "Requirement already satisfied: six>=1.4.0 in /Users/kreshnaa.raam/Library/Python/3.8/lib/python/site-packages (from docker>=4.2.2<5.0.0->datarobot-drum) (1.15.0)\n",
      "Requirement already satisfied: websocket-client>=0.32.0 in /Library/Python/3.8/site-packages (from docker>=4.2.2<5.0.0->datarobot-drum) (0.57.0)\n",
      "Requirement already satisfied: psutil in /Users/kreshnaa.raam/Library/Python/3.8/lib/python/site-packages (from memory-profiler<1.0.0->datarobot-drum) (5.7.2)\n",
      "Requirement already satisfied: flask_cors in /Library/Python/3.8/site-packages (from mlpiper~=2.4.0->datarobot-drum) (3.0.10)\n",
      "Requirement already satisfied: future in /Library/Python/3.8/site-packages (from mlpiper~=2.4.0->datarobot-drum) (0.18.2)\n",
      "Requirement already satisfied: uwsgi in /Library/Python/3.8/site-packages (from mlpiper~=2.4.0->datarobot-drum) (2.0.19.1)\n",
      "Requirement already satisfied: termcolor in /Users/kreshnaa.raam/Library/Python/3.8/lib/python/site-packages (from mlpiper~=2.4.0->datarobot-drum) (1.1.0.post1+dr)\n",
      "Requirement already satisfied: pytz>=2017.2 in /Library/Python/3.8/site-packages (from pandas->datarobot-drum) (2020.1)\n",
      "Requirement already satisfied: certifi>=2017.4.17 in /Library/Python/3.8/site-packages (from requests->datarobot-drum) (2020.6.20)\n",
      "Requirement already satisfied: chardet<4,>=3.0.2 in /Library/Python/3.8/site-packages (from requests->datarobot-drum) (3.0.4)\n",
      "Requirement already satisfied: idna<3,>=2.5 in /Library/Python/3.8/site-packages (from requests->datarobot-drum) (2.10)\n",
      "Requirement already satisfied: ruamel.yaml.clib>=0.1.2 in /Library/Python/3.8/site-packages (from ruamel.yaml>=0.14.2->strictyaml==1.0.6->datarobot-drum) (0.2.2)\n",
      "Requirement already satisfied: Werkzeug>=0.15 in /Library/Python/3.8/site-packages (from flask->datarobot-drum) (1.0.1)\n",
      "Requirement already satisfied: itsdangerous>=0.24 in /Library/Python/3.8/site-packages (from flask->datarobot-drum) (1.1.0)\n",
      "Requirement already satisfied: click>=5.1 in /Library/Python/3.8/site-packages (from flask->datarobot-drum) (7.1.2)\n",
      "Requirement already satisfied: MarkupSafe>=0.23 in /Users/kreshnaa.raam/Library/Python/3.8/lib/python/site-packages (from jinja2->datarobot-drum) (1.1.1)\n",
      "\u001b[33mWARNING: You are using pip version 21.0.1; however, version 21.1 is available.\n",
      "You should consider upgrading via the '/Library/Developer/CommandLineTools/usr/bin/python3 -m pip install --upgrade pip' command.\u001b[0m\n"
     ]
    }
   ],
   "source": [
    "#In case I need to update datarobot-drum\n",
    "!pip install datarobot-drum --upgrade"
   ]
  },
  {
   "cell_type": "markdown",
   "metadata": {},
   "source": [
    "### Import Data"
   ]
  },
  {
   "cell_type": "code",
   "execution_count": 18,
   "metadata": {},
   "outputs": [],
   "source": [
    "df = pd.read_csv('../data/airline_delay_train.csv')\n",
    "\n",
    "X = df.drop('dep_delayed_15min', axis=1)\n",
    "X = X.drop(['FlightDate','DepTime'],axis=1)\n",
    "y = df.pop('dep_delayed_15min')"
   ]
  },
  {
   "cell_type": "markdown",
   "metadata": {},
   "source": [
    "### Define Preprocessing step per type of column"
   ]
  },
  {
   "cell_type": "markdown",
   "metadata": {},
   "source": [
    "### Fit the Preprocessing Pipeline"
   ]
  },
  {
   "cell_type": "code",
   "execution_count": 19,
   "metadata": {},
   "outputs": [],
   "source": [
    "#Preprocessing for categorical features\n",
    "categorical_features = ['UniqueCarrier', 'Origin', 'Dest']\n",
    "categorical_transformer = Pipeline(steps=[\n",
    "    ('imputer', SimpleImputer(strategy='constant', fill_value='missing')),\n",
    "    ('onehot', OneHotEncoder(handle_unknown='ignore'))])\n",
    "\n",
    "#Preprocessor with all of the steps\n",
    "preprocessor = ColumnTransformer(\n",
    "    transformers=[\n",
    "        ('cat', categorical_transformer, categorical_features)])\n",
    "\n",
    "# Full preprocessing pipeline\n",
    "pipeline = Pipeline(steps=[('preprocessor', preprocessor)])\n",
    "\n",
    "#Train the model-Pipeline\n",
    "pipeline.fit(X,y)\n",
    "\n",
    "#Preprocess x\n",
    "preprocessed = pipeline.transform(X)\n",
    "\n",
    "#I could also train the model with the sparse matrix. I transform it to padnas because the hook function in custom.py expected a pandas dataframe to be used for scoring.\n",
    "preprocessed = pd.DataFrame.sparse.from_spmatrix(preprocessed)\n"
   ]
  },
  {
   "cell_type": "markdown",
   "metadata": {},
   "source": [
    "### Train XGboost Classifier\n",
    "Normally, the XGboost classifier could be part of the final scikit-learn pipeline. I am opting to keep them separate in order to create a more complicated example with different pkl files for preprocessing and scoring"
   ]
  },
  {
   "cell_type": "code",
   "execution_count": 20,
   "metadata": {
    "tags": []
   },
   "outputs": [
    {
     "data": {
      "text/plain": [
       "RandomForestClassifier(n_estimators=5)"
      ]
     },
     "execution_count": 20,
     "metadata": {},
     "output_type": "execute_result"
    }
   ],
   "source": [
    "model = RandomForestClassifier(n_estimators = 5)\n",
    "\n",
    "model.fit(preprocessed,y)"
   ]
  },
  {
   "cell_type": "markdown",
   "metadata": {},
   "source": [
    "### Save Custom Model files"
   ]
  },
  {
   "cell_type": "code",
   "execution_count": 21,
   "metadata": {},
   "outputs": [
    {
     "data": {
      "text/plain": [
       "['custom_model/model.pkl']"
      ]
     },
     "execution_count": 21,
     "metadata": {},
     "output_type": "execute_result"
    }
   ],
   "source": [
    "joblib.dump(pipeline,'custom_model/preprocessing.pkl')\n",
    "joblib.dump(model, 'custom_model/model.pkl') "
   ]
  },
  {
   "cell_type": "code",
   "execution_count": 23,
   "metadata": {
    "tags": []
   },
   "outputs": [
    {
     "name": "stdout",
     "output_type": "stream",
     "text": [
      "/Library/Python/3.8/site-packages/sklearn/base.py:329: UserWarning: Trying to unpickle estimator DecisionTreeClassifier from version 0.23.2 when using version 0.23.1. This might lead to breaking code or invalid results. Use at your own risk.\n",
      "  warnings.warn(\n",
      "/Library/Python/3.8/site-packages/sklearn/base.py:329: UserWarning: Trying to unpickle estimator RandomForestClassifier from version 0.23.2 when using version 0.23.1. This might lead to breaking code or invalid results. Use at your own risk.\n",
      "  warnings.warn(\n",
      "/Library/Python/3.8/site-packages/sklearn/base.py:329: UserWarning: Trying to unpickle estimator SimpleImputer from version 0.23.2 when using version 0.23.1. This might lead to breaking code or invalid results. Use at your own risk.\n",
      "  warnings.warn(\n",
      "/Library/Python/3.8/site-packages/sklearn/base.py:329: UserWarning: Trying to unpickle estimator OneHotEncoder from version 0.23.2 when using version 0.23.1. This might lead to breaking code or invalid results. Use at your own risk.\n",
      "  warnings.warn(\n",
      "/Library/Python/3.8/site-packages/sklearn/base.py:329: UserWarning: Trying to unpickle estimator Pipeline from version 0.23.2 when using version 0.23.1. This might lead to breaking code or invalid results. Use at your own risk.\n",
      "  warnings.warn(\n",
      "/Library/Python/3.8/site-packages/sklearn/base.py:329: UserWarning: Trying to unpickle estimator ColumnTransformer from version 0.23.2 when using version 0.23.1. This might lead to breaking code or invalid results. Use at your own risk.\n",
      "  warnings.warn(\n",
      "            True     False\n",
      "0       0.673997  0.326003\n",
      "1       0.835499  0.164501\n",
      "2       0.905634  0.094366\n",
      "3       0.872680  0.127320\n",
      "4       0.668055  0.331945\n",
      "...          ...       ...\n",
      "101507  0.570746  0.429254\n",
      "101508  0.827050  0.172950\n",
      "101509  0.861419  0.138581\n",
      "101510  0.520401  0.479599\n",
      "101511  0.731238  0.268762\n",
      "\n",
      "[101512 rows x 2 columns]\n",
      "/Library/Python/3.8/site-packages/sklearn/base.py:329: UserWarning: Trying to unpickle estimator DecisionTreeClassifier from version 0.23.2 when using version 0.23.1. This might lead to breaking code or invalid results. Use at your own risk.\n",
      "  warnings.warn(\n",
      "/Library/Python/3.8/site-packages/sklearn/base.py:329: UserWarning: Trying to unpickle estimator RandomForestClassifier from version 0.23.2 when using version 0.23.1. This might lead to breaking code or invalid results. Use at your own risk.\n",
      "  warnings.warn(\n",
      "/Library/Python/3.8/site-packages/sklearn/base.py:329: UserWarning: Trying to unpickle estimator SimpleImputer from version 0.23.2 when using version 0.23.1. This might lead to breaking code or invalid results. Use at your own risk.\n",
      "  warnings.warn(\n",
      "/Library/Python/3.8/site-packages/sklearn/base.py:329: UserWarning: Trying to unpickle estimator OneHotEncoder from version 0.23.2 when using version 0.23.1. This might lead to breaking code or invalid results. Use at your own risk.\n",
      "  warnings.warn(\n",
      "/Library/Python/3.8/site-packages/sklearn/base.py:329: UserWarning: Trying to unpickle estimator Pipeline from version 0.23.2 when using version 0.23.1. This might lead to breaking code or invalid results. Use at your own risk.\n",
      "  warnings.warn(\n",
      "/Library/Python/3.8/site-packages/sklearn/base.py:329: UserWarning: Trying to unpickle estimator ColumnTransformer from version 0.23.2 when using version 0.23.1. This might lead to breaking code or invalid results. Use at your own risk.\n",
      "  warnings.warn(\n",
      "            True     False\n",
      "0       0.673997  0.326003\n",
      "1       0.835499  0.164501\n",
      "2       0.905634  0.094366\n",
      "3       0.872680  0.127320\n",
      "4       0.668055  0.331945\n",
      "...          ...       ...\n",
      "101507  0.570746  0.429254\n",
      "101508  0.827050  0.172950\n",
      "101509  0.861419  0.138581\n",
      "101510  0.520401  0.479599\n",
      "101511  0.731238  0.268762\n",
      "\n",
      "[101512 rows x 2 columns]\n",
      "/Library/Python/3.8/site-packages/sklearn/base.py:329: UserWarning: Trying to unpickle estimator DecisionTreeClassifier from version 0.23.2 when using version 0.23.1. This might lead to breaking code or invalid results. Use at your own risk.\n",
      "  warnings.warn(\n",
      "/Library/Python/3.8/site-packages/sklearn/base.py:329: UserWarning: Trying to unpickle estimator RandomForestClassifier from version 0.23.2 when using version 0.23.1. This might lead to breaking code or invalid results. Use at your own risk.\n",
      "  warnings.warn(\n",
      "/Library/Python/3.8/site-packages/sklearn/base.py:329: UserWarning: Trying to unpickle estimator SimpleImputer from version 0.23.2 when using version 0.23.1. This might lead to breaking code or invalid results. Use at your own risk.\n",
      "  warnings.warn(\n",
      "/Library/Python/3.8/site-packages/sklearn/base.py:329: UserWarning: Trying to unpickle estimator OneHotEncoder from version 0.23.2 when using version 0.23.1. This might lead to breaking code or invalid results. Use at your own risk.\n",
      "  warnings.warn(\n",
      "/Library/Python/3.8/site-packages/sklearn/base.py:329: UserWarning: Trying to unpickle estimator Pipeline from version 0.23.2 when using version 0.23.1. This might lead to breaking code or invalid results. Use at your own risk.\n",
      "  warnings.warn(\n",
      "/Library/Python/3.8/site-packages/sklearn/base.py:329: UserWarning: Trying to unpickle estimator ColumnTransformer from version 0.23.2 when using version 0.23.1. This might lead to breaking code or invalid results. Use at your own risk.\n",
      "  warnings.warn(\n",
      "            True     False\n",
      "0       0.791707  0.208293\n",
      "1       0.835499  0.164501\n",
      "2       0.851283  0.148717\n",
      "3       0.899549  0.100451\n",
      "4       0.755327  0.244673\n",
      "...          ...       ...\n",
      "101507  0.696817  0.303183\n",
      "101508  0.689971  0.310029\n",
      "101509  0.864455  0.135545\n",
      "101510  0.602732  0.397268\n",
      "101511  0.863568  0.136432\n",
      "\n",
      "[101512 rows x 2 columns]\n",
      "/Library/Python/3.8/site-packages/sklearn/base.py:329: UserWarning: Trying to unpickle estimator DecisionTreeClassifier from version 0.23.2 when using version 0.23.1. This might lead to breaking code or invalid results. Use at your own risk.\n",
      "  warnings.warn(\n",
      "/Library/Python/3.8/site-packages/sklearn/base.py:329: UserWarning: Trying to unpickle estimator RandomForestClassifier from version 0.23.2 when using version 0.23.1. This might lead to breaking code or invalid results. Use at your own risk.\n",
      "  warnings.warn(\n",
      "/Library/Python/3.8/site-packages/sklearn/base.py:329: UserWarning: Trying to unpickle estimator SimpleImputer from version 0.23.2 when using version 0.23.1. This might lead to breaking code or invalid results. Use at your own risk.\n",
      "  warnings.warn(\n",
      "/Library/Python/3.8/site-packages/sklearn/base.py:329: UserWarning: Trying to unpickle estimator OneHotEncoder from version 0.23.2 when using version 0.23.1. This might lead to breaking code or invalid results. Use at your own risk.\n",
      "  warnings.warn(\n",
      "/Library/Python/3.8/site-packages/sklearn/base.py:329: UserWarning: Trying to unpickle estimator Pipeline from version 0.23.2 when using version 0.23.1. This might lead to breaking code or invalid results. Use at your own risk.\n",
      "  warnings.warn(\n",
      "/Library/Python/3.8/site-packages/sklearn/base.py:329: UserWarning: Trying to unpickle estimator ColumnTransformer from version 0.23.2 when using version 0.23.1. This might lead to breaking code or invalid results. Use at your own risk.\n",
      "  warnings.warn(\n",
      "            True     False\n",
      "0       0.822857  0.177143\n",
      "1       0.861575  0.138425\n",
      "2       0.906726  0.093274\n",
      "3       0.861575  0.138425\n",
      "4       0.723847  0.276153\n",
      "...          ...       ...\n",
      "101507  0.708437  0.291563\n",
      "101508  0.850685  0.149315\n",
      "101509  0.876747  0.123253\n",
      "101510  0.597546  0.402454\n",
      "101511  0.845109  0.154891\n",
      "\n",
      "[101512 rows x 2 columns]\n",
      "/Library/Python/3.8/site-packages/sklearn/base.py:329: UserWarning: Trying to unpickle estimator DecisionTreeClassifier from version 0.23.2 when using version 0.23.1. This might lead to breaking code or invalid results. Use at your own risk.\n",
      "  warnings.warn(\n",
      "/Library/Python/3.8/site-packages/sklearn/base.py:329: UserWarning: Trying to unpickle estimator RandomForestClassifier from version 0.23.2 when using version 0.23.1. This might lead to breaking code or invalid results. Use at your own risk.\n",
      "  warnings.warn(\n",
      "/Library/Python/3.8/site-packages/sklearn/base.py:329: UserWarning: Trying to unpickle estimator SimpleImputer from version 0.23.2 when using version 0.23.1. This might lead to breaking code or invalid results. Use at your own risk.\n",
      "  warnings.warn(\n",
      "/Library/Python/3.8/site-packages/sklearn/base.py:329: UserWarning: Trying to unpickle estimator OneHotEncoder from version 0.23.2 when using version 0.23.1. This might lead to breaking code or invalid results. Use at your own risk.\n",
      "  warnings.warn(\n",
      "/Library/Python/3.8/site-packages/sklearn/base.py:329: UserWarning: Trying to unpickle estimator Pipeline from version 0.23.2 when using version 0.23.1. This might lead to breaking code or invalid results. Use at your own risk.\n",
      "  warnings.warn(\n",
      "/Library/Python/3.8/site-packages/sklearn/base.py:329: UserWarning: Trying to unpickle estimator ColumnTransformer from version 0.23.2 when using version 0.23.1. This might lead to breaking code or invalid results. Use at your own risk.\n",
      "  warnings.warn(\n",
      "            True     False\n",
      "0       0.787913  0.212087\n",
      "1       0.813194  0.186806\n",
      "2       0.866521  0.133479\n",
      "3       0.858375  0.141625\n",
      "4       0.825386  0.174614\n",
      "...          ...       ...\n",
      "101507  0.697754  0.302246\n",
      "101508  0.854322  0.145678\n",
      "101509  0.818204  0.181796\n",
      "101510  0.819445  0.180555\n",
      "101511  0.857536  0.142464\n",
      "\n",
      "[101512 rows x 2 columns]\n",
      "/Library/Python/3.8/site-packages/sklearn/base.py:329: UserWarning: Trying to unpickle estimator DecisionTreeClassifier from version 0.23.2 when using version 0.23.1. This might lead to breaking code or invalid results. Use at your own risk.\n",
      "  warnings.warn(\n",
      "/Library/Python/3.8/site-packages/sklearn/base.py:329: UserWarning: Trying to unpickle estimator RandomForestClassifier from version 0.23.2 when using version 0.23.1. This might lead to breaking code or invalid results. Use at your own risk.\n",
      "  warnings.warn(\n",
      "/Library/Python/3.8/site-packages/sklearn/base.py:329: UserWarning: Trying to unpickle estimator SimpleImputer from version 0.23.2 when using version 0.23.1. This might lead to breaking code or invalid results. Use at your own risk.\n",
      "  warnings.warn(\n",
      "/Library/Python/3.8/site-packages/sklearn/base.py:329: UserWarning: Trying to unpickle estimator OneHotEncoder from version 0.23.2 when using version 0.23.1. This might lead to breaking code or invalid results. Use at your own risk.\n",
      "  warnings.warn(\n",
      "/Library/Python/3.8/site-packages/sklearn/base.py:329: UserWarning: Trying to unpickle estimator Pipeline from version 0.23.2 when using version 0.23.1. This might lead to breaking code or invalid results. Use at your own risk.\n",
      "  warnings.warn(\n",
      "/Library/Python/3.8/site-packages/sklearn/base.py:329: UserWarning: Trying to unpickle estimator ColumnTransformer from version 0.23.2 when using version 0.23.1. This might lead to breaking code or invalid results. Use at your own risk.\n",
      "  warnings.warn(\n",
      "            True     False\n",
      "0       0.673997  0.326003\n",
      "1       0.835499  0.164501\n",
      "2       0.905634  0.094366\n",
      "3       0.872680  0.127320\n",
      "4       0.668055  0.331945\n",
      "...          ...       ...\n",
      "101507  0.570746  0.429254\n",
      "101508  0.827050  0.172950\n",
      "101509  0.861419  0.138581\n",
      "101510  0.520401  0.479599\n",
      "101511  0.731238  0.268762\n",
      "\n",
      "[101512 rows x 2 columns]\n",
      "/Library/Python/3.8/site-packages/sklearn/base.py:329: UserWarning: Trying to unpickle estimator DecisionTreeClassifier from version 0.23.2 when using version 0.23.1. This might lead to breaking code or invalid results. Use at your own risk.\n",
      "  warnings.warn(\n",
      "/Library/Python/3.8/site-packages/sklearn/base.py:329: UserWarning: Trying to unpickle estimator RandomForestClassifier from version 0.23.2 when using version 0.23.1. This might lead to breaking code or invalid results. Use at your own risk.\n",
      "  warnings.warn(\n",
      "/Library/Python/3.8/site-packages/sklearn/base.py:329: UserWarning: Trying to unpickle estimator SimpleImputer from version 0.23.2 when using version 0.23.1. This might lead to breaking code or invalid results. Use at your own risk.\n",
      "  warnings.warn(\n",
      "/Library/Python/3.8/site-packages/sklearn/base.py:329: UserWarning: Trying to unpickle estimator OneHotEncoder from version 0.23.2 when using version 0.23.1. This might lead to breaking code or invalid results. Use at your own risk.\n",
      "  warnings.warn(\n",
      "/Library/Python/3.8/site-packages/sklearn/base.py:329: UserWarning: Trying to unpickle estimator Pipeline from version 0.23.2 when using version 0.23.1. This might lead to breaking code or invalid results. Use at your own risk.\n",
      "  warnings.warn(\n",
      "/Library/Python/3.8/site-packages/sklearn/base.py:329: UserWarning: Trying to unpickle estimator ColumnTransformer from version 0.23.2 when using version 0.23.1. This might lead to breaking code or invalid results. Use at your own risk.\n",
      "  warnings.warn(\n",
      "            True     False\n",
      "0       0.673997  0.326003\n",
      "1       0.835499  0.164501\n",
      "2       0.905634  0.094366\n",
      "3       0.872680  0.127320\n",
      "4       0.668055  0.331945\n",
      "...          ...       ...\n",
      "101507  0.570746  0.429254\n",
      "101508  0.827050  0.172950\n",
      "101509  0.861419  0.138581\n",
      "101510  0.520401  0.479599\n",
      "101511  0.731238  0.268762\n",
      "\n",
      "[101512 rows x 2 columns]\n",
      "\n",
      "\n",
      "Validation checks results\n",
      "      Test case         Status\n",
      "==============================\n",
      "Null value imputation   PASSED\n"
     ]
    }
   ],
   "source": [
    "!drum validation --code-dir ./custom_model --input ../data/airline_delay_test.csv --target-type binary --positive-class-label True --negative-class-label False"
   ]
  },
  {
   "cell_type": "code",
   "execution_count": 30,
   "metadata": {},
   "outputs": [
    {
     "name": "stdout",
     "output_type": "stream",
     "text": [
      "/Library/Python/3.8/site-packages/sklearn/base.py:329: UserWarning: Trying to unpickle estimator DecisionTreeClassifier from version 0.23.2 when using version 0.23.1. This might lead to breaking code or invalid results. Use at your own risk.\n",
      "  warnings.warn(\n",
      "/Library/Python/3.8/site-packages/sklearn/base.py:329: UserWarning: Trying to unpickle estimator RandomForestClassifier from version 0.23.2 when using version 0.23.1. This might lead to breaking code or invalid results. Use at your own risk.\n",
      "  warnings.warn(\n",
      "/Library/Python/3.8/site-packages/sklearn/base.py:329: UserWarning: Trying to unpickle estimator SimpleImputer from version 0.23.2 when using version 0.23.1. This might lead to breaking code or invalid results. Use at your own risk.\n",
      "  warnings.warn(\n",
      "/Library/Python/3.8/site-packages/sklearn/base.py:329: UserWarning: Trying to unpickle estimator OneHotEncoder from version 0.23.2 when using version 0.23.1. This might lead to breaking code or invalid results. Use at your own risk.\n",
      "  warnings.warn(\n",
      "/Library/Python/3.8/site-packages/sklearn/base.py:329: UserWarning: Trying to unpickle estimator Pipeline from version 0.23.2 when using version 0.23.1. This might lead to breaking code or invalid results. Use at your own risk.\n",
      "  warnings.warn(\n",
      "/Library/Python/3.8/site-packages/sklearn/base.py:329: UserWarning: Trying to unpickle estimator ColumnTransformer from version 0.23.2 when using version 0.23.1. This might lead to breaking code or invalid results. Use at your own risk.\n",
      "  warnings.warn(\n",
      "            True     False\n",
      "0       0.673997  0.326003\n",
      "1       0.835499  0.164501\n",
      "2       0.905634  0.094366\n",
      "3       0.872680  0.127320\n",
      "4       0.668055  0.331945\n",
      "...          ...       ...\n",
      "101507  0.570746  0.429254\n",
      "101508  0.827050  0.172950\n",
      "101509  0.861419  0.138581\n",
      "101510  0.520401  0.479599\n",
      "101511  0.731238  0.268762\n",
      "\n",
      "[101512 rows x 2 columns]\n"
     ]
    }
   ],
   "source": [
    "!drum score --code-dir ./custom_model --input ../data/airline_delay_test.csv --target-type binary --positive-class-label True --negative-class-label False"
   ]
  },
  {
   "cell_type": "code",
   "execution_count": null,
   "metadata": {},
   "outputs": [],
   "source": []
  }
 ],
 "metadata": {
  "kernelspec": {
   "display_name": "Python 3",
   "language": "python",
   "name": "python3"
  },
  "language_info": {
   "codemirror_mode": {
    "name": "ipython",
    "version": 3
   },
   "file_extension": ".py",
   "mimetype": "text/x-python",
   "name": "python",
   "nbconvert_exporter": "python",
   "pygments_lexer": "ipython3",
   "version": "3.8.7"
  }
 },
 "nbformat": 4,
 "nbformat_minor": 4
}
